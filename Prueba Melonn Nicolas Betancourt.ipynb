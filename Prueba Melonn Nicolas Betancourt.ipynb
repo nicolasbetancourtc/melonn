{
 "cells": [
  {
   "cell_type": "code",
   "execution_count": 1,
   "metadata": {
    "ExecuteTime": {
     "end_time": "2021-06-11T12:27:12.260677Z",
     "start_time": "2021-06-11T12:27:09.377639Z"
    }
   },
   "outputs": [],
   "source": [
    "import numpy as np\n",
    "import pandas as pd\n",
    "import matplotlib.pyplot as plt\n",
    "from scipy.special import factorial\n",
    "from scipy.linalg import norm\n",
    "from sympy.plotting import plot as spPlot\n",
    "import matplotlib.pyplot as plt\n",
    "import random as rd\n",
    "from scipy.sparse import *\n",
    "from scipy.sparse.linalg import *\n",
    "from scipy.optimize import linprog\n",
    "#from ortools.linear_solver import pywraplp\n",
    "#import pulp\n",
    "#from pulp import LpMaximize, LpProblem, LpStatus, lpSum, LpVariable, COIN_CMD\n",
    "import cplex\n",
    "#drive.mount('/content/drive')\n",
    "from docplex.mp.model import Model\n",
    "from gurobipy import *\n",
    "from itertools import product\n",
    "from scipy.linalg import block_diag"
   ]
  },
  {
   "cell_type": "markdown",
   "metadata": {},
   "source": [
    "# Introduction"
   ]
  },
  {
   "cell_type": "markdown",
   "metadata": {},
   "source": [
    "## Modeling of the problem as a two-stage stochastic program\n"
   ]
  },
  {
   "cell_type": "markdown",
   "metadata": {},
   "source": [
    "There are two shifts for operators working at a warehouse. Each of the $y^i_1$ operators working at the morning shift on the $i$th day of the month, is required to pick at least 5 orders. Besides, all of the $D^i_3$ orders of the third type are meant to be picked in this first shift.  Each of the $y^i_2$ operators working at the morning shift on the $i$th day of the month, is required to pick at least 5 orders. They are also asked to picked all of the $D^i_1$ orders of the first type. The orders of the second type can be picked in either of both shifts. An additional constraint of the problem is that in the first day of the month the maximum available number of operators has to be decided.  Translating this into equations turns out in\n",
    "\n",
    "\\begin{align}\n",
    "5y^i_1\\geq D^i_3+D^i_2 & &\\forall 1\\leq i \\leq 30\\\\ \n",
    "5y^i_2\\geq D^i_1 &  & \\forall 1\\leq i \\leq 30  \\\\\n",
    "y^i_1+y^i_2\\leq y_1^1+y_2^1 & & \\forall 2\\leq i \\leq 30 \n",
    "\\end{align}\n",
    "\n",
    "The reason why we assume all orders of the second type will be placed in the morning  is to get as much work done ahead of schedule as possible. We will also ask the cost to be bellow a maximum cost parameter:\n",
    "\n",
    "$$ c^T y^1 \\leq c_{max}$$\n",
    "\n",
    "where $c$ is the vector of hiring costs. If $q^i$ is vector of operation costs per operator on day $i$, the previous problem can be formulated through a two-stage stochastic program as\n",
    "\n",
    "\\begin{align}\n",
    "  \\min & & c^T y^1 +E\\left[ \\min\\left\\{  \\sum_{i=2}^{30} (y^i)^Tq^i \\right\\}\\right]\\\\\n",
    "  \\text{s.a.} &  & c^T y^1 \\leq    c_{max} \\\\\n",
    "              &  & 5y^i_1\\geq D^i_3+D^i_2 \\quad\\forall 1\\leq i \\leq 30 \\\\\n",
    "              &  & 5y^i_2\\geq D^i_1\\quad \\forall 1\\leq i \\leq 30 \\\\\n",
    "              &  & y^i_1+y^i_2\\leq y_1^1+y_2^1 \\quad \\forall 2\\leq i \\leq 30\\\\\n",
    "               & & y^i \\geq 0 \\forall 1\\leq i \\leq 30 \\\\\n",
    "\\end{align}\n"
   ]
  },
  {
   "cell_type": "markdown",
   "metadata": {},
   "source": [
    "We want to use  L-Shaped algorithm to solve the previous problem, therefore it is necessary to write it in its standard form. To that end we introduce the following notation"
   ]
  },
  {
   "cell_type": "markdown",
   "metadata": {},
   "source": [
    "Let $ T_1\\in \\mathbb{R}^{90\\times 2}$ be the matrix  given by \n",
    "\n",
    "$$T_1:=\\begin{pmatrix} 5&5 \\\\ 0&0 \\\\ 0&0 \\\\\\hline \\\\ 0 & 0 \\\\ 0 & 0 \\\\ 1 & 1 \\\\ \\vdots \\\\  0 & 0 \\\\ 0 & 0 \\\\ 1 & 1   \\end{pmatrix} $$\n",
    "\n",
    "The reason why $T_1$ has 90 rows is because there are 3 constraints for each of the 29 $y^i$. \n",
    "\n",
    "Let $y \\in \\mathbb{R}^{58}$ be the vector resulting from concatenating all of the $y^i$ with  $i\\geq 2$ i.e.\n",
    "\n",
    "$$y:=\\begin{pmatrix}  y^2_1 \\\\   y^2_2 \\\\ \\vdots \\\\ y^{30}_1 \\\\ y^{30}_2   \\end{pmatrix} $$\n",
    "\n",
    "\n"
   ]
  },
  {
   "cell_type": "markdown",
   "metadata": {},
   "source": [
    "Consider $W_0\\in \\mathbb{R}^{3 \\times 2}$  the matrix given by \n",
    "$$ W_0:= \\begin{pmatrix}  5 & 0 \\\\ 0 & 5 \\\\ -1 & -1    \\end{pmatrix}$$\n",
    "\n",
    "and let $ W_1 \\in \\mathbb{R}^{90\\times 58}$ be the block matrix induced by $W_0$:\n",
    "\n",
    "$$ W_1:= \\begin{pmatrix} O_{3\\times 2} & O_{3\\times 2} & \\cdots & O_{3\\times 2}  \\\\ W_0 & 0 & \\cdots  & 0 \\\\  0 & W_0 & \\cdots  & 0 \\\\ \\vdots \\\\ 0 & 0 & \\cdots  & W_0  \\end{pmatrix}$$.\n",
    "\n",
    "Finally, the last variable to be introduced is  $h \\in \\mathbb{R}^{90 \\times 1}$ given by \n",
    "\n",
    "\n",
    "\n",
    "$$ h:= \\begin{pmatrix} D^1_2+D^1_3 \\\\ D^1_1 \\\\ 0 \\\\  \\vdots \\\\ D^{30}_2+D^{30}_3 \\\\ D^{30}_1\\\\0\\end{pmatrix}$$\n",
    "\n",
    "\n",
    "\n"
   ]
  },
  {
   "cell_type": "markdown",
   "metadata": {},
   "source": [
    "With this notation we can re write the stochastic program as\n",
    "\n",
    "\\begin{align}\n",
    "  \\min & & c^T y^1 +E\\left[ \\min\\{q^Ty \\}\\right]\\\\\n",
    "  \\text{s.a.} &  & T_1y^1+W_1 y \\geq   h \\\\\n",
    "              & & y^1 \\geq 0, \\hat{y}\\geq 0\n",
    "\\end{align}\n"
   ]
  },
  {
   "cell_type": "markdown",
   "metadata": {},
   "source": [
    "The final step to turn our problem into a standard form problem is to turn the inequality $T_1y^1+W_1 y \\geq   h$ into an equality. To that end we use a slack variable $s\\in \\mathbb{R}^{90\\times 1}$ and rewrite our problem as \n",
    "\n",
    "\\begin{align}\n",
    "  \\min & & c^T y^1 +E\\left[ \\min\\{q^Ty \\}\\right]\\\\\n",
    "  \\text{s.a.} &  & T_1y^1+W_1 y +s= h \\\\\n",
    "              & & y^1 \\geq 0,y\\geq 0,s\\geq 0\n",
    "\\end{align}\n",
    "\n",
    "\n",
    "And leting  $\\hat{y} $ be $\\hat{y}:=\\begin{pmatrix} y \\\\ \\hline  s \\end{pmatrix} \\in \\mathbb{R}^{148}$ and\n",
    "\n",
    "$$  W:= \\left( \\begin{array}{c|c}  W_1   &I_{87\\times 87}  \\end{array} \\right) \\in \\mathbb{R}^{87\\times 148} $$\n",
    "\n",
    "we obtain\n",
    "\n",
    "\\begin{align}\n",
    "  \\min & & c^T y^1 +E\\left[ \\min\\{q^Ty \\}\\right]\\\\\n",
    "  \\text{s.a.} &  & T_1y^1+W\\widehat{y}= h \\\\\n",
    "              & & y^1 \\geq 0, \\hat{y}\\geq 0\\end{align}"
   ]
  },
  {
   "cell_type": "markdown",
   "metadata": {
    "ExecuteTime": {
     "end_time": "2021-06-08T21:24:53.123205Z",
     "start_time": "2021-06-08T21:24:53.119988Z"
    }
   },
   "source": [
    "As said, we wish to have a maximum cost restriction. Let us append a last restricition on the problem above\n",
    "\n",
    "\\begin{align}\n",
    "  \\min & & c^T y^1 +E\\left[ \\min\\{q^Ty \\}\\right]\\\\\n",
    "  \\text{s.a.} &  & A x=c_{max} \\\\\n",
    "              &  & Tx+W\\widehat{y}= h \\\\\n",
    "              & & x \\geq 0, \\hat{y}\\geq 0\n",
    "\\end{align}\n",
    "\n",
    "where $A=\\begin{pmatrix} y^1 \\\\ \\hline 1 \\end{pmatrix}\\in  \\mathbb{R}^3$, $c_{max}\\in \\mathbb{R}$ is a parameter of the problem, $T$ is equal to $T_1$ but with a column of zeros at the end and $x:=\\begin{pmatrix} y^1 \\\\ \\hline  s^1 \\end{pmatrix} \\in \\mathbb{R}^{3}$. Here $ s^1$ is also a slack variable. We finally have the problem modeled an writen as a standard stochastic program of two stages in its standard form"
   ]
  },
  {
   "cell_type": "markdown",
   "metadata": {},
   "source": [
    "# Estimated distribution of the demand variables"
   ]
  },
  {
   "cell_type": "markdown",
   "metadata": {},
   "source": [
    "Since the only random parameter of the linear program is\n",
    "\n",
    "$$ h:= \\begin{pmatrix} D^1_2+D^1_3 \\\\ D^1_1 \\\\ 0 \\\\  \\vdots \\\\ D^{30}_2+D^{30}_3 \\\\ D^{30}_1\\\\0\\end{pmatrix}$$\n",
    "\n",
    "we need to estimate the distribution of $Z^i:=D^i_2+D^i_3 $ and $D^2_1$ for each $i$ in order to take the average of the Bender's cuts in the $L-$shaped algorithm."
   ]
  },
  {
   "cell_type": "markdown",
   "metadata": {},
   "source": [
    "In order to take into account the CovidAfectedness we will choose a discount tunable parameter $\\lambda\\in (0,1)$ and \n",
    "make the following estimation:\n",
    "\n",
    "Let $ S_1^i$ be $S_1^i=\\sum_{k\\in \\mathbb{N}}\\sum_{i=0}^3 \\#(D_1^i=k\\text{ and } Aff=i) \\lambda^i$ so for each $k$\n",
    "the probability of $D_1^i$ taking a value $k$ will be estimated by\n",
    "$$ p_{k}^i:=\\frac{\\sum_{i=0}^3 \\#(D_1^i=k\\text{ and } Aff=i) \\lambda^i}{S_1^i} $$\n",
    "\n",
    "Similarly, let $ S_2^i$ be $S_2^i=\\sum_{k\\in \\mathbb{N}}\\sum_{i=0}^3 \\#(Z^i=k\\text{ and } Aff=i) \\lambda^i$ so for each $k$\n",
    "the probability of $D_1^i$ taking a value $k$ will be estimated by\n",
    "$$ q_{k}^i:=\\frac{\\sum_{i=0}^3 \\#(Z^i=k\\text{ and } Aff=i)   \\lambda^i}{S_1^i} $$\n",
    "\n",
    "\n",
    "\n",
    "Here $Aff $ is the level of afectedness and $ \\#(X=k\\text{ and } Aff=i)$ is the number of times $ X$ was $ k$ and the level of afectedness was $i$ in the data set"
   ]
  },
  {
   "cell_type": "code",
   "execution_count": 2,
   "metadata": {
    "ExecuteTime": {
     "end_time": "2021-06-11T12:27:12.264663Z",
     "start_time": "2021-06-11T12:27:12.261935Z"
    }
   },
   "outputs": [],
   "source": [
    "lmbda=0.5"
   ]
  },
  {
   "cell_type": "code",
   "execution_count": 3,
   "metadata": {
    "ExecuteTime": {
     "end_time": "2021-06-11T12:27:12.635116Z",
     "start_time": "2021-06-11T12:27:12.266325Z"
    }
   },
   "outputs": [],
   "source": [
    "#datos\n",
    "datos=pd.read_csv('Datos_Prueba_DataScientist.csv').astype({'RequestTime':'datetime64[ns]'})\n",
    "#Número de ventas diarias\n",
    "datos['RequestTime']=datos['RequestTime'].dt.date\n",
    "ventasDiaDia=datos.groupby(['RequestTime','DeliveryOption']).agg(k=('OrderId','nunique')).reset_index()\n",
    "ventasDiaDia['DeliveryOption']= ventasDiaDia['DeliveryOption'].map({'Mismo dia entre 6:30 pm y 8:30 pm':'D1',\n",
    "       'Siguiente dia entre 12:30 pm y 2:30 pm':'Z',\n",
    "       'Siguiente dia entre las 6:30 pm y 8:30 pm':'Z'})\n",
    "#Afectacion\n",
    "afectacionCovid=pd.date_range(start='2018-01', end='2021-03', freq='M').to_series().dt.to_period('M').to_frame().rename(columns={0:'mes'}).reset_index(drop=True)\n",
    "dictAfectedness=dict(zip(afectacionCovid[afectacionCovid['mes']>='2020-03']['mes'],[3,3,1,1,1,2,2,1,1,2,2,1]))\n",
    "afectacionCovid['afectacion']=np.where(afectacionCovid['mes']<'2020-03',0,afectacionCovid['mes'].map(dictAfectedness))\n",
    "dictAfectedness2=dict(zip(afectacionCovid['mes'], afectacionCovid['afectacion']))\n",
    "ventasDiaDia['mes']=ventasDiaDia['RequestTime'].astype('datetime64[ns]').dt.to_period('M')\n",
    "ventasDiaDia['dia']=ventasDiaDia['RequestTime'].astype('datetime64[ns]').dt.day\n",
    "ventasDiaDia['aff']=ventasDiaDia['mes'].map(dictAfectedness2).astype('int64')"
   ]
  },
  {
   "cell_type": "code",
   "execution_count": 4,
   "metadata": {
    "ExecuteTime": {
     "end_time": "2021-06-11T12:27:12.644835Z",
     "start_time": "2021-06-11T12:27:12.636420Z"
    }
   },
   "outputs": [],
   "source": [
    "aa=ventasDiaDia.groupby(['DeliveryOption','dia','k','aff']).size().to_frame().reset_index()\n"
   ]
  },
  {
   "cell_type": "code",
   "execution_count": 5,
   "metadata": {
    "ExecuteTime": {
     "end_time": "2021-06-11T12:27:12.648904Z",
     "start_time": "2021-06-11T12:27:12.646080Z"
    }
   },
   "outputs": [],
   "source": [
    "D_1={i:{} for i in range(1,31)}\n",
    "Z={i:{} for i in range(1,31)}\n"
   ]
  },
  {
   "cell_type": "code",
   "execution_count": 6,
   "metadata": {
    "ExecuteTime": {
     "end_time": "2021-06-11T12:27:15.682586Z",
     "start_time": "2021-06-11T12:27:12.650313Z"
    }
   },
   "outputs": [],
   "source": [
    "for i in D_1.keys():\n",
    "    diccionario={}\n",
    "    temp=aa[(aa['DeliveryOption']=='D1')&(aa['dia']==i)]\n",
    "    \n",
    "    for k in temp['k'].unique():\n",
    "        temp_k=temp[temp['k']==k]\n",
    "        diccionario[k]=sum([float(temp_k[temp_k['aff']==i][0]*lmbda**i) if temp_k[temp_k['aff']==i].shape[0]>0 else 0    for i in range(4)])\n",
    "    diccionario2={}\n",
    "    S=sum(diccionario.values())\n",
    "    for k in diccionario.keys():\n",
    "        diccionario2[k]=diccionario[k]/S\n",
    "    D_1[i]=diccionario2\n",
    "    \n",
    "\n",
    "                        \n",
    "                        \n",
    "                        \n",
    "                        \n",
    "                        \n",
    "                        "
   ]
  },
  {
   "cell_type": "code",
   "execution_count": 7,
   "metadata": {
    "ExecuteTime": {
     "end_time": "2021-06-11T12:27:19.338035Z",
     "start_time": "2021-06-11T12:27:15.683724Z"
    }
   },
   "outputs": [],
   "source": [
    "for i in Z.keys():\n",
    "    diccionario={}\n",
    "    temp=aa[(aa['DeliveryOption']=='Z')&(aa['dia']==i)]\n",
    "    \n",
    "    for k in temp['k'].unique():\n",
    "        temp_k=temp[temp['k']==k]\n",
    "        diccionario[k]=sum([float(temp_k[temp_k['aff']==i][0]*lmbda**i) if temp_k[temp_k['aff']==i].shape[0]>0 else 0    for i in range(4)])\n",
    "    diccionario2={}\n",
    "    S=sum(diccionario.values())\n",
    "    for k in diccionario.keys():\n",
    "        diccionario2[k]=diccionario[k]/S\n",
    "    Z[i]=diccionario2"
   ]
  },
  {
   "cell_type": "code",
   "execution_count": 8,
   "metadata": {
    "ExecuteTime": {
     "end_time": "2021-06-11T12:27:19.343507Z",
     "start_time": "2021-06-11T12:27:19.340076Z"
    }
   },
   "outputs": [],
   "source": [
    "def roll(DicDistribucion):\n",
    "    massDist=list(DicDistribucion.values())\n",
    "    randRoll = rd.random() # uniforme en [0,1]\n",
    "    n=len(massDist)\n",
    "    cotas=[kk for kk in range(n) if randRoll>=sum(massDist[0:kk])]\n",
    "    return list(DicDistribucion.keys())[int(max(cotas))]    \n",
    "\n",
    "\n",
    "\n",
    "\n"
   ]
  },
  {
   "cell_type": "markdown",
   "metadata": {},
   "source": [
    "Visualization of the distributions of some of the random variables involved in the process"
   ]
  },
  {
   "cell_type": "code",
   "execution_count": 9,
   "metadata": {
    "ExecuteTime": {
     "end_time": "2021-06-11T12:27:19.989357Z",
     "start_time": "2021-06-11T12:27:19.345019Z"
    }
   },
   "outputs": [
    {
     "data": {
      "text/plain": [
       "<matplotlib.axes._subplots.AxesSubplot at 0x10226c8690>"
      ]
     },
     "execution_count": 9,
     "metadata": {},
     "output_type": "execute_result"
    },
    {
     "data": {
      "image/png": "[encoded data removed]",
      "text/plain": [
       "<Figure size 576x432 with 1 Axes>"
      ]
     },
     "metadata": {
      "needs_background": "light"
     },
     "output_type": "display_data"
    },
    {
     "data": {
      "image/png": "[encoded data removed]",
      "text/plain": [
       "<Figure size 576x432 with 1 Axes>"
      ]
     },
     "metadata": {
      "needs_background": "light"
     },
     "output_type": "display_data"
    }
   ],
   "source": [
    "i=np.random.randint(1,31)\n",
    "\n",
    "#D_1\n",
    "sample=[roll(D_1[i]) for j in range(100)]\n",
    "fig,ax=plt.subplots(figsize=(8,6))\n",
    "ax.set_title('Sample distribution for '+r'$D_1^{i}$'.format(i=i))\n",
    "pd.DataFrame(pd.DataFrame(sample).astype(str).rename(columns={0:'realización'})['realización'].value_counts()).reset_index().astype({'index':'int64'}).plot(kind='bar',y='realización',x='index',ax=ax)\n",
    "\n",
    "#Z\n",
    "\n",
    "sample=[roll(Z[i]) for j in range(100)]\n",
    "fig,ax2=plt.subplots(figsize=(8,6))\n",
    "ax2.set_title('Sample distribution for '+r'$Z^{i}$'.format(i=i))\n",
    "pd.DataFrame(pd.DataFrame(sample).astype(str).rename(columns={0:'realización'})['realización'].value_counts()).reset_index().astype({'index':'int64'}).plot(kind='bar',y='realización',x='index',ax=ax2)\n"
   ]
  },
  {
   "cell_type": "markdown",
   "metadata": {
    "ExecuteTime": {
     "end_time": "2021-05-09T16:49:21.406347Z",
     "start_time": "2021-05-09T16:49:10.216395Z"
    }
   },
   "source": [
    "# Code and numeric results"
   ]
  },
  {
   "cell_type": "code",
   "execution_count": 10,
   "metadata": {
    "ExecuteTime": {
     "end_time": "2021-06-11T12:27:19.995489Z",
     "start_time": "2021-06-11T12:27:19.990581Z"
    }
   },
   "outputs": [],
   "source": [
    "#Global parameters of the problem\n",
    "workRate=10\n",
    "T=np.array([[1,0],[0,1],[0,0]]+[[0,0],[0,0],[1,1]]*29).reshape(90,2)\n",
    "W0=np.array([[workRate,0],[0,workRate],[-1,-1]])\n",
    "W1=np.vstack([ np.zeros((3,58))  ,block_diag(*[W0]*29)])\n",
    "W=np.block([W1,-np.eye(90)])"
   ]
  },
  {
   "cell_type": "code",
   "execution_count": 11,
   "metadata": {
    "ExecuteTime": {
     "end_time": "2021-06-11T12:27:20.000116Z",
     "start_time": "2021-06-11T12:27:19.996706Z"
    }
   },
   "outputs": [
    {
     "data": {
      "text/plain": [
       "((90, 2), (90, 148), (90, 58))"
      ]
     },
     "execution_count": 11,
     "metadata": {},
     "output_type": "execute_result"
    }
   ],
   "source": [
    "T.shape, W.shape, W1.shape"
   ]
  },
  {
   "cell_type": "markdown",
   "metadata": {},
   "source": [
    "The operation and hiring costs $c$ and $q$ are parameters of the problem. We will set whatever value at first"
   ]
  },
  {
   "cell_type": "code",
   "execution_count": 12,
   "metadata": {
    "ExecuteTime": {
     "end_time": "2021-06-11T12:27:20.005670Z",
     "start_time": "2021-06-11T12:27:20.001781Z"
    }
   },
   "outputs": [],
   "source": [
    "q=np.array([2,2]*29+[0]*90)\n",
    "c=np.array([10,10])\n",
    "c_MAX=(10**6)*sum(c.tolist())\n",
    "A=np.array(c.tolist()+[1]).reshape(-1,1)"
   ]
  },
  {
   "cell_type": "markdown",
   "metadata": {},
   "source": [
    "In order to implement $L-$shaped algorithm it is necessary to enumerate all the possible realization of the random variables of the problem. Unfortunately, the number of possible realizations for the variable $h$ exceeds what this machine can handle.So, to keep the computability of this problem in reasonable levels, we will assumme that all of the $D^i$ assume the same value at the same time. Also, it will be assumed that  all of the $Z^i$ take the same value at the same time. "
   ]
  },
  {
   "cell_type": "code",
   "execution_count": 13,
   "metadata": {
    "ExecuteTime": {
     "end_time": "2021-06-11T12:27:20.013251Z",
     "start_time": "2021-06-11T12:27:20.007098Z"
    }
   },
   "outputs": [
    {
     "name": "stderr",
     "output_type": "stream",
     "text": [
      "/Users/nicolasbetancourt/opt/anaconda3/lib/python3.7/site-packages/ipykernel_launcher.py:1: RuntimeWarning: overflow encountered in long_scalars\n",
      "  \"\"\"Entry point for launching an IPython kernel.\n"
     ]
    },
    {
     "data": {
      "text/plain": [
       "'The number of realizations of h without the naive assumption would be -6341068275337658368'"
      ]
     },
     "execution_count": 13,
     "metadata": {},
     "output_type": "execute_result"
    }
   ],
   "source": [
    "big=np.prod([len(D_1[i].keys()) for i in D_1.keys()])*np.prod([len(Z[i].keys()) for i in Z.keys()])\n",
    "\n",
    "'The number of realizations of h without the naive assumption would be {big}'.format(big=big)"
   ]
  },
  {
   "cell_type": "code",
   "execution_count": 14,
   "metadata": {
    "ExecuteTime": {
     "end_time": "2021-06-11T12:27:20.020016Z",
     "start_time": "2021-06-11T12:27:20.014735Z"
    }
   },
   "outputs": [],
   "source": [
    "idx_Z=[i for i in Z.keys() if len(Z[i].keys())== max([len(Z[i].keys()) for i in Z.keys()])][0]\n",
    "idx_D=[i for i in D_1.keys() if len(D_1[i].keys())== max([len(D_1[i].keys()) for i in Z.keys()])][0]"
   ]
  },
  {
   "cell_type": "code",
   "execution_count": 15,
   "metadata": {
    "ExecuteTime": {
     "end_time": "2021-06-11T12:27:20.025651Z",
     "start_time": "2021-06-11T12:27:20.021288Z"
    }
   },
   "outputs": [
    {
     "data": {
      "text/plain": [
       "'The number of realizations of h assuming what we said is  1776'"
      ]
     },
     "execution_count": 15,
     "metadata": {},
     "output_type": "execute_result"
    }
   ],
   "source": [
    "Ztemp=Z[idx_Z]\n",
    "Dtemp=D_1[idx_D]\n",
    "small=len(Ztemp.keys())*len(Dtemp.keys())\n",
    "'The number of realizations of h assuming what we said is  {small}'.format(small=small)"
   ]
  },
  {
   "cell_type": "code",
   "execution_count": 16,
   "metadata": {
    "ExecuteTime": {
     "end_time": "2021-06-11T12:27:20.029272Z",
     "start_time": "2021-06-11T12:27:20.026847Z"
    }
   },
   "outputs": [],
   "source": [
    "realizaciones=list(product(Ztemp.keys(),Dtemp.keys()))"
   ]
  },
  {
   "cell_type": "markdown",
   "metadata": {},
   "source": [
    "For sake of simplicity we will assume that random variables corresponding to different types of order and to different days of the nonth are independent."
   ]
  },
  {
   "cell_type": "code",
   "execution_count": 17,
   "metadata": {
    "ExecuteTime": {
     "end_time": "2021-06-11T12:27:20.033718Z",
     "start_time": "2021-06-11T12:27:20.030525Z"
    }
   },
   "outputs": [],
   "source": [
    "probas={(z,d): Ztemp[z]*Dtemp[d]  for z,d in realizaciones}\n",
    "\n",
    "\n"
   ]
  },
  {
   "cell_type": "markdown",
   "metadata": {},
   "source": [
    "### $L$-shaped"
   ]
  },
  {
   "cell_type": "code",
   "execution_count": 18,
   "metadata": {
    "ExecuteTime": {
     "end_time": "2021-06-11T12:27:20.081528Z",
     "start_time": "2021-06-11T12:27:20.034943Z"
    }
   },
   "outputs": [
    {
     "name": "stdout",
     "output_type": "stream",
     "text": [
      "Academic license - for non-commercial use only - expires 2021-07-08\n",
      "Using license file /Users/nicolasbetancourt/gurobi.lic\n"
     ]
    }
   ],
   "source": [
    "#Inicializo el maestro sin cortes de ningún tipo\n",
    "maestro=Model('maestro')\n",
    "maestro.setParam(\"OutputFlag\",0)\n",
    "maestro.setParam(\"InfUnbdInfo\", 1)\n",
    "s1=maestro.addMVar(shape=1,lb=0,name='s1',vtype = GRB.CONTINUOUS,)\n",
    "y1=maestro.addMVar(shape=2,lb=0 ,name='y^1',vtype = GRB.CONTINUOUS,)\n",
    "theta=maestro.addMVar(shape=1,lb=0,name='theta',vtype = GRB.CONTINUOUS,)\n",
    "maestro.setObjective(c@y1+theta,GRB.MINIMIZE)\n",
    "#maestro.addConstr(c@y1+s1==c_MAX)\n",
    "maestro.optimize()\n",
    "y1_temp=np.array([y1[0].x,y1[1].x]).reshape(-1,)\n",
    "s1_temp=s1.x\n",
    "theta_temp=-np.inf\n"
   ]
  },
  {
   "cell_type": "code",
   "execution_count": 19,
   "metadata": {
    "ExecuteTime": {
     "end_time": "2021-06-11T12:27:20.245873Z",
     "start_time": "2021-06-11T12:27:20.082724Z"
    }
   },
   "outputs": [
    {
     "name": "stdout",
     "output_type": "stream",
     "text": [
      "saludos\n",
      "infeasible :(\n"
     ]
    },
    {
     "ename": "KeyError",
     "evalue": "(4, 7)",
     "output_type": "error",
     "traceback": [
      "\u001b[0;31m---------------------------------------------------------------------------\u001b[0m",
      "\u001b[0;31mKeyError\u001b[0m                                  Traceback (most recent call last)",
      "\u001b[0;32m<ipython-input-19-24e30357b408>\u001b[0m in \u001b[0;36m<module>\u001b[0;34m\u001b[0m\n\u001b[1;32m     44\u001b[0m \u001b[0;34m\u001b[0m\u001b[0m\n\u001b[1;32m     45\u001b[0m     \u001b[0;31m#Si llegó hasta acá es porque todos los esclavos fueron factibles\u001b[0m\u001b[0;34m\u001b[0m\u001b[0;34m\u001b[0m\u001b[0;34m\u001b[0m\u001b[0m\n\u001b[0;32m---> 46\u001b[0;31m     \u001b[0mE\u001b[0m\u001b[0;34m=\u001b[0m\u001b[0msum\u001b[0m\u001b[0;34m(\u001b[0m\u001b[0;34m[\u001b[0m\u001b[0mprobas\u001b[0m\u001b[0;34m[\u001b[0m\u001b[0mescenario\u001b[0m\u001b[0;34m]\u001b[0m\u001b[0;34m*\u001b[0m\u001b[0mpis\u001b[0m\u001b[0;34m[\u001b[0m\u001b[0mescenario\u001b[0m\u001b[0;34m]\u001b[0m\u001b[0;34m.\u001b[0m\u001b[0mT\u001b[0m\u001b[0;34m@\u001b[0m\u001b[0mT\u001b[0m \u001b[0;32mfor\u001b[0m \u001b[0mescenario\u001b[0m \u001b[0;32min\u001b[0m \u001b[0mrealizaciones\u001b[0m\u001b[0;34m]\u001b[0m\u001b[0;34m)\u001b[0m\u001b[0;34m\u001b[0m\u001b[0;34m\u001b[0m\u001b[0m\n\u001b[0m\u001b[1;32m     47\u001b[0m     \u001b[0me\u001b[0m\u001b[0;34m=\u001b[0m\u001b[0msum\u001b[0m\u001b[0;34m(\u001b[0m\u001b[0;34m[\u001b[0m\u001b[0mprobas\u001b[0m\u001b[0;34m[\u001b[0m\u001b[0mescenario\u001b[0m\u001b[0;34m]\u001b[0m\u001b[0;34m*\u001b[0m\u001b[0mpis\u001b[0m\u001b[0;34m[\u001b[0m\u001b[0mescenario\u001b[0m\u001b[0;34m]\u001b[0m\u001b[0;34m.\u001b[0m\u001b[0mT\u001b[0m\u001b[0;34m@\u001b[0m\u001b[0mh\u001b[0m \u001b[0;32mfor\u001b[0m \u001b[0mescenario\u001b[0m \u001b[0;32min\u001b[0m \u001b[0mrealizaciones\u001b[0m\u001b[0;34m]\u001b[0m\u001b[0;34m)\u001b[0m\u001b[0;34m\u001b[0m\u001b[0;34m\u001b[0m\u001b[0m\n\u001b[1;32m     48\u001b[0m     \u001b[0;32mif\u001b[0m \u001b[0me\u001b[0m\u001b[0;34m-\u001b[0m\u001b[0mE\u001b[0m\u001b[0;34m@\u001b[0m\u001b[0my1_temp\u001b[0m\u001b[0;34m<=\u001b[0m\u001b[0mtheta_temp\u001b[0m\u001b[0;34m:\u001b[0m\u001b[0;34m\u001b[0m\u001b[0;34m\u001b[0m\u001b[0m\n",
      "\u001b[0;32m<ipython-input-19-24e30357b408>\u001b[0m in \u001b[0;36m<listcomp>\u001b[0;34m(.0)\u001b[0m\n\u001b[1;32m     44\u001b[0m \u001b[0;34m\u001b[0m\u001b[0m\n\u001b[1;32m     45\u001b[0m     \u001b[0;31m#Si llegó hasta acá es porque todos los esclavos fueron factibles\u001b[0m\u001b[0;34m\u001b[0m\u001b[0;34m\u001b[0m\u001b[0;34m\u001b[0m\u001b[0m\n\u001b[0;32m---> 46\u001b[0;31m     \u001b[0mE\u001b[0m\u001b[0;34m=\u001b[0m\u001b[0msum\u001b[0m\u001b[0;34m(\u001b[0m\u001b[0;34m[\u001b[0m\u001b[0mprobas\u001b[0m\u001b[0;34m[\u001b[0m\u001b[0mescenario\u001b[0m\u001b[0;34m]\u001b[0m\u001b[0;34m*\u001b[0m\u001b[0mpis\u001b[0m\u001b[0;34m[\u001b[0m\u001b[0mescenario\u001b[0m\u001b[0;34m]\u001b[0m\u001b[0;34m.\u001b[0m\u001b[0mT\u001b[0m\u001b[0;34m@\u001b[0m\u001b[0mT\u001b[0m \u001b[0;32mfor\u001b[0m \u001b[0mescenario\u001b[0m \u001b[0;32min\u001b[0m \u001b[0mrealizaciones\u001b[0m\u001b[0;34m]\u001b[0m\u001b[0;34m)\u001b[0m\u001b[0;34m\u001b[0m\u001b[0;34m\u001b[0m\u001b[0m\n\u001b[0m\u001b[1;32m     47\u001b[0m     \u001b[0me\u001b[0m\u001b[0;34m=\u001b[0m\u001b[0msum\u001b[0m\u001b[0;34m(\u001b[0m\u001b[0;34m[\u001b[0m\u001b[0mprobas\u001b[0m\u001b[0;34m[\u001b[0m\u001b[0mescenario\u001b[0m\u001b[0;34m]\u001b[0m\u001b[0;34m*\u001b[0m\u001b[0mpis\u001b[0m\u001b[0;34m[\u001b[0m\u001b[0mescenario\u001b[0m\u001b[0;34m]\u001b[0m\u001b[0;34m.\u001b[0m\u001b[0mT\u001b[0m\u001b[0;34m@\u001b[0m\u001b[0mh\u001b[0m \u001b[0;32mfor\u001b[0m \u001b[0mescenario\u001b[0m \u001b[0;32min\u001b[0m \u001b[0mrealizaciones\u001b[0m\u001b[0;34m]\u001b[0m\u001b[0;34m)\u001b[0m\u001b[0;34m\u001b[0m\u001b[0;34m\u001b[0m\u001b[0m\n\u001b[1;32m     48\u001b[0m     \u001b[0;32mif\u001b[0m \u001b[0me\u001b[0m\u001b[0;34m-\u001b[0m\u001b[0mE\u001b[0m\u001b[0;34m@\u001b[0m\u001b[0my1_temp\u001b[0m\u001b[0;34m<=\u001b[0m\u001b[0mtheta_temp\u001b[0m\u001b[0;34m:\u001b[0m\u001b[0;34m\u001b[0m\u001b[0;34m\u001b[0m\u001b[0m\n",
      "\u001b[0;31mKeyError\u001b[0m: (4, 7)"
     ]
    }
   ],
   "source": [
    "NoParar=True\n",
    "j=0\n",
    "while NoParar:\n",
    "    pis={}\n",
    "    if j%10==0 and j>20:\n",
    "        print(j)\n",
    "    for i,escenario in enumerate(realizaciones):\n",
    "        print('saludos')\n",
    "        if i%5000==0 and i>0:\n",
    "            print('i',i)\n",
    "        z,d=escenario\n",
    "        esclavo=Model('esclavo_'+str(i))\n",
    "        esclavo.setParam(\"OutputFlag\",0)\n",
    "        esclavo.setParam(\"InfUnbdInfo\", 1)\n",
    "        \n",
    "        \n",
    "        \n",
    "        y_gorro=esclavo.addMVar(shape=148,lb=0,name='y',vtype = GRB.CONTINUOUS,)\n",
    "        esclavo.setObjective(q@y_gorro,GRB.MINIMIZE)\n",
    "        \n",
    "        h=np.array([z,d,0]*30)\n",
    "        \n",
    "        restr=esclavo.addConstr(W@y_gorro==h-T@y1_temp)\n",
    "        esclavo.optimize()\n",
    "        \n",
    "        if esclavo.status == GRB.Status.INFEASIBLE:\n",
    "            print('infeasible :(')\n",
    "            #certificado de infactibilidad\n",
    "            sigma=restr.getAttr(\"FarkasDual\")\n",
    "            maestro.addConstr((sigma.T@T)@y1>=sigma.T@h)\n",
    "            maestro.optimize()\n",
    "            y1_temp=np.array([y1[0].x,y1[1].x]).reshape(-1,)\n",
    "            break\n",
    "        else:\n",
    "            \n",
    "            esclavo_dual=Model('esclavo_dual_'+str(i))\n",
    "            esclavo_dual.setParam(\"OutputFlag\",0)\n",
    "            pi=esclavo_dual.addMVar(shape=90,name='pi')\n",
    "            esclavo_dual.setObjective((h-T@y1_temp).T@pi,GRB.MAXIMIZE)\n",
    "            esclavo_dual.addConstr(W.T@pi<=q)\n",
    "            esclavo_dual.optimize()\n",
    "            pi_temp=np.array([float(pi[i].x) for i in range(pi.shape[0])])\n",
    "            pis[escenario]=pi_temp\n",
    "            \n",
    "    #Si llegó hasta acá es porque todos los esclavos fueron factibles\n",
    "    E=sum([probas[escenario]*pis[escenario].T@T for escenario in realizaciones])\n",
    "    e=sum([probas[escenario]*pis[escenario].T@h for escenario in realizaciones])\n",
    "    if e-E@y1_temp<=theta_temp:\n",
    "        print('Convergió')\n",
    "        NoParar=False\n",
    "    else:\n",
    "        maestro.addConstr(E@y1+theta>=e)\n",
    "        maestro.optimize()\n",
    "        y1_temp=np.array([y1[0].x,y1[1].x]).reshape(-1,)\n",
    "        theta_temp=theta[0].x\n",
    "    j=j+1\n",
    "   \n",
    "        \n",
    "\n",
    "       "
   ]
  },
  {
   "cell_type": "code",
   "execution_count": null,
   "metadata": {
    "ExecuteTime": {
     "end_time": "2021-06-11T12:27:20.247125Z",
     "start_time": "2021-06-11T12:27:09.426Z"
    }
   },
   "outputs": [],
   "source": [
    "W.shape"
   ]
  },
  {
   "cell_type": "markdown",
   "metadata": {
    "ExecuteTime": {
     "end_time": "2021-06-10T20:55:06.155109Z",
     "start_time": "2021-06-10T20:55:06.152007Z"
    }
   },
   "source": [
    "# Alternative code for $L$-shaped\n"
   ]
  },
  {
   "cell_type": "code",
   "execution_count": 20,
   "metadata": {
    "ExecuteTime": {
     "end_time": "2021-06-11T12:27:38.867430Z",
     "start_time": "2021-06-11T12:27:38.860337Z"
    }
   },
   "outputs": [],
   "source": [
    "def feasibility_cut(y1_temp):\n",
    "    \n",
    "    xv = y1_temp\n",
    "    D = np.zeros(3)\n",
    "    d = 0\n",
    "    \n",
    "    feasCUT = 0\n",
    "    feasCUT = 0\n",
    "    for i,escenario in enumerate(realizaciones):\n",
    "        z,d=escenario\n",
    "        problema_feasibility = Model(\"feasibility\")\n",
    "        problema_feasibility.setParam('OutputFlag', 0)\n",
    "        \n",
    "        \n",
    "        y = problema_feasibility.addMVar(shape=148, lb=0.0, vtype = GRB.CONTINUOUS, name='y')\n",
    "        vmas = problema_feasibility.addMVar(shape=90, lb=0.0, vtype = GRB.CONTINUOUS, name='v+')\n",
    "        vmenos = problema_feasibility.addMVar(shape=90, lb=0.0, vtype = GRB.CONTINUOUS, name='v-')\n",
    "        h=np.array([z,d,0]*30)\n",
    "        \n",
    "        problema_feasibility.setObjective(vmas.sum()+vmenos.sum(), GRB.MINIMIZE)\n",
    "\n",
    "        constr = problema_feasibility.addConstr(W@y + np.eye(90)@vmas + np.eye(90)@vmenos == h.T - T@xv.T, \"restric\" )\n",
    "\n",
    "        problema_feasibility.optimize()\n",
    "\n",
    "        if problema_feasibility.objVal>0:\n",
    "            PI_k =constr.PI\n",
    "            D = PI_k@T\n",
    "            d= PI_k@h\n",
    "            feasCUT =1\n",
    "            break\n",
    "    \n",
    "    return  feasCUT, D, d, realiz\n",
    "        \n",
    "    "
   ]
  },
  {
   "cell_type": "code",
   "execution_count": 21,
   "metadata": {
    "ExecuteTime": {
     "end_time": "2021-06-11T12:27:39.405276Z",
     "start_time": "2021-06-11T12:27:39.399710Z"
    }
   },
   "outputs": [],
   "source": [
    "def problemaEsclavo(y1_temp):\n",
    "    \n",
    "    xv = y1_temp\n",
    "    \n",
    "    E = np.zeros(2)\n",
    "    e = 0\n",
    "\n",
    "    \n",
    "    for i,escenario in enumerate(realizaciones):\n",
    "        z,d=escenario\n",
    "        problema_esclavo = Model(\"esclavo\")\n",
    "        problema_esclavo.setParam('OutputFlag', 0)\n",
    "\n",
    "        y = problema_esclavo.addMVar(shape=148, lb=0.0, vtype = GRB.CONTINUOUS, name='y')\n",
    "\n",
    "        h=np.array([z,d,0]*30)\n",
    "        \n",
    "        problema_esclavo.setObjective(q.T@y, GRB.MINIMIZE)\n",
    "\n",
    "        constr = problema_esclavo.addConstr(W@y + T@xv.T == h.T, \"restric\" )\n",
    "\n",
    "        problema_esclavo.optimize()\n",
    "        print(problema_esclavo.status)\n",
    "        PI_k = constr.PI\n",
    "        E += PI_k @ T\n",
    "        e += PI_k @ h\n",
    "\n",
    "    E = prob*E\n",
    "    e = prob*e\n",
    "    w = e-E@xv\n",
    "    return E,e,w"
   ]
  },
  {
   "cell_type": "code",
   "execution_count": 22,
   "metadata": {
    "ExecuteTime": {
     "end_time": "2021-06-11T12:27:55.475357Z",
     "start_time": "2021-06-11T12:27:55.441992Z"
    }
   },
   "outputs": [
    {
     "name": "stdout",
     "output_type": "stream",
     "text": [
      "3\n"
     ]
    },
    {
     "ename": "GurobiError",
     "evalue": "Unable to retrieve attribute 'PI'",
     "output_type": "error",
     "traceback": [
      "\u001b[0;31m---------------------------------------------------------------------------\u001b[0m",
      "\u001b[0;31mGurobiError\u001b[0m                               Traceback (most recent call last)",
      "\u001b[0;32m<ipython-input-22-1441d1095d77>\u001b[0m in \u001b[0;36m<module>\u001b[0;34m\u001b[0m\n\u001b[1;32m     44\u001b[0m     \u001b[0;31m###PASO 3 PROBLEMA ESCLAVO\u001b[0m\u001b[0;34m\u001b[0m\u001b[0;34m\u001b[0m\u001b[0;34m\u001b[0m\u001b[0m\n\u001b[1;32m     45\u001b[0m \u001b[0;34m\u001b[0m\u001b[0m\n\u001b[0;32m---> 46\u001b[0;31m     \u001b[0mE\u001b[0m\u001b[0;34m,\u001b[0m\u001b[0me\u001b[0m\u001b[0;34m,\u001b[0m\u001b[0mw\u001b[0m \u001b[0;34m=\u001b[0m \u001b[0mproblemaEsclavo\u001b[0m\u001b[0;34m(\u001b[0m\u001b[0mxvs\u001b[0m\u001b[0;34m)\u001b[0m\u001b[0;34m\u001b[0m\u001b[0;34m\u001b[0m\u001b[0m\n\u001b[0m\u001b[1;32m     47\u001b[0m \u001b[0;34m\u001b[0m\u001b[0m\n\u001b[1;32m     48\u001b[0m \u001b[0;34m\u001b[0m\u001b[0m\n",
      "\u001b[0;32m<ipython-input-21-80f76bbe80aa>\u001b[0m in \u001b[0;36mproblemaEsclavo\u001b[0;34m(y1_temp)\u001b[0m\n\u001b[1;32m     22\u001b[0m         \u001b[0mproblema_esclavo\u001b[0m\u001b[0;34m.\u001b[0m\u001b[0moptimize\u001b[0m\u001b[0;34m(\u001b[0m\u001b[0;34m)\u001b[0m\u001b[0;34m\u001b[0m\u001b[0;34m\u001b[0m\u001b[0m\n\u001b[1;32m     23\u001b[0m         \u001b[0mprint\u001b[0m\u001b[0;34m(\u001b[0m\u001b[0mproblema_esclavo\u001b[0m\u001b[0;34m.\u001b[0m\u001b[0mstatus\u001b[0m\u001b[0;34m)\u001b[0m\u001b[0;34m\u001b[0m\u001b[0;34m\u001b[0m\u001b[0m\n\u001b[0;32m---> 24\u001b[0;31m         \u001b[0mPI_k\u001b[0m \u001b[0;34m=\u001b[0m \u001b[0mconstr\u001b[0m\u001b[0;34m.\u001b[0m\u001b[0mPI\u001b[0m\u001b[0;34m\u001b[0m\u001b[0;34m\u001b[0m\u001b[0m\n\u001b[0m\u001b[1;32m     25\u001b[0m         \u001b[0mE\u001b[0m \u001b[0;34m+=\u001b[0m \u001b[0mPI_k\u001b[0m \u001b[0;34m@\u001b[0m \u001b[0mT\u001b[0m\u001b[0;34m\u001b[0m\u001b[0;34m\u001b[0m\u001b[0m\n\u001b[1;32m     26\u001b[0m         \u001b[0me\u001b[0m \u001b[0;34m+=\u001b[0m \u001b[0mPI_k\u001b[0m \u001b[0;34m@\u001b[0m \u001b[0mh\u001b[0m\u001b[0;34m\u001b[0m\u001b[0;34m\u001b[0m\u001b[0m\n",
      "\u001b[0;32msrc/gurobipy/mconstr.pxi\u001b[0m in \u001b[0;36mgurobipy.MConstr.__getattr__\u001b[0;34m()\u001b[0m\n",
      "\u001b[0;32msrc/gurobipy/mconstr.pxi\u001b[0m in \u001b[0;36mgurobipy.MConstr.getAttr\u001b[0;34m()\u001b[0m\n",
      "\u001b[0;32msrc/gurobipy/attrutil.pxi\u001b[0m in \u001b[0;36mgurobipy.__gettypedattrlist\u001b[0;34m()\u001b[0m\n",
      "\u001b[0;31mGurobiError\u001b[0m: Unable to retrieve attribute 'PI'"
     ]
    }
   ],
   "source": [
    "r,s,v = 0, 0, 0\n",
    "\n",
    "solucion = 0\n",
    "Es = []\n",
    "es = []\n",
    "thetaIncluir = 0\n",
    "\n",
    "\n",
    "while solucion==0:\n",
    "    \n",
    "    #PASO 1 PROBLEMA MAESTRO\n",
    "    v+=1\n",
    "    \n",
    "    problema_maestro = Model(\"maestro\")\n",
    "    problema_maestro.setParam('OutputFlag', 0)\n",
    "    x = problema_maestro.addMVar(shape =2, lb=0.0, vtype = GRB.CONTINUOUS, name = 'x')\n",
    "    s1 = problema_maestro.addMVar(shape= 1, lb=0.0, vtype = GRB.CONTINUOUS, name = 's1')\n",
    "\n",
    "    \n",
    "    if len(Es)==0:\n",
    "        theta = -np.inf\n",
    "        problema_maestro.setObjective(c@x, GRB.MINIMIZE)\n",
    "    else:\n",
    "        thetaIncluir = 1\n",
    "        theta = problema_maestro.addMVar(shape= 1, vtype = GRB.CONTINUOUS, name = 'theta')\n",
    "        problema_maestro.setObjective(c@x + theta, GRB.MINIMIZE)\n",
    "\n",
    "    ##Ax=b\n",
    "    #constr = problema_maestro.addConstr(c@x + s1 == c_MAX, \"costo_máximo\" )\n",
    "    \n",
    "    for i in range(s):\n",
    "        problema_maestro.addConstr(Es[i]@x + theta >= es[i]  ,\"optimality_cut{}\".format(i) )\n",
    "\n",
    "    problema_maestro.optimize()\n",
    "\n",
    "    todasVars = [var.x for var in problema_maestro.getVars()]\n",
    "    \n",
    "    xvs = np.array(todasVars[0:2])\n",
    "    \n",
    "    \n",
    "    #feasibility_cut(xvs)\n",
    "    \n",
    "    \n",
    "    ###PASO 3 PROBLEMA ESCLAVO\n",
    "    \n",
    "    E,e,w = problemaEsclavo(xvs)\n",
    "\n",
    "    \n",
    "    print(\"iteración: \", v)\n",
    "    \n",
    "        \n",
    "    if thetaIncluir==0:\n",
    "        s+=1\n",
    "        Es.append(E)\n",
    "        es.append(e)\n",
    "        continue\n",
    "         \n",
    "    elif theta.x+1e-6>=w:\n",
    "        solucion=1\n",
    "        print(\"La solución es: \", xvs)\n",
    "        \n",
    "        \n",
    "    else:\n",
    "        s+=1\n",
    "        Es.append(E)\n",
    "        es.append(e)"
   ]
  },
  {
   "cell_type": "markdown",
   "metadata": {
    "ExecuteTime": {
     "end_time": "2021-06-11T12:27:20.250251Z",
     "start_time": "2021-06-11T12:27:09.435Z"
    }
   },
   "source": [
    "# Alternative solution"
   ]
  },
  {
   "cell_type": "markdown",
   "metadata": {
    "ExecuteTime": {
     "end_time": "2021-06-11T12:27:20.250832Z",
     "start_time": "2021-06-11T12:27:09.437Z"
    }
   },
   "source": [
    "Unfortunately $L-$shaped algorithm presented infeaseability problems. This is why we will solve the problem using the median value of $h$ in ordder to give results"
   ]
  },
  {
   "cell_type": "markdown",
   "metadata": {},
   "source": [
    "\n",
    "\\begin{align}\n",
    "  \\min & & c^T y^1 +q^Ty \\\\\n",
    "  \\text{s.a.} &  & A x=c_{max} \\\\\n",
    "              &  & Tx+W\\widehat{y}= h \\\\\n",
    "              & & x \\geq 0, \\hat{y}\\geq 0\n",
    "\\end{align}"
   ]
  },
  {
   "cell_type": "code",
   "execution_count": 26,
   "metadata": {
    "ExecuteTime": {
     "end_time": "2021-06-11T12:35:27.528638Z",
     "start_time": "2021-06-11T12:35:26.575530Z"
    }
   },
   "outputs": [],
   "source": [
    "mediasD1={i: np.median(np.median([ roll(D_1[i]) for sample in range(1000)]))  for i in D_1.keys() }\n",
    "mediasZ={i: np.median(np.median([ roll(Z[i]) for sample in range(1000)]))  for i in Z.keys() }"
   ]
  },
  {
   "cell_type": "code",
   "execution_count": 30,
   "metadata": {
    "ExecuteTime": {
     "end_time": "2021-06-11T12:37:14.890229Z",
     "start_time": "2021-06-11T12:37:14.887515Z"
    }
   },
   "outputs": [],
   "source": [
    "h=np.array([ [mediasZ[i],mediasD1[i],0 ] for i in range(1,31)  ]).reshape(90,1)\n",
    "\n"
   ]
  },
  {
   "cell_type": "code",
   "execution_count": 62,
   "metadata": {
    "ExecuteTime": {
     "end_time": "2021-06-11T13:02:24.436628Z",
     "start_time": "2021-06-11T13:02:24.418014Z"
    }
   },
   "outputs": [
    {
     "name": "stdout",
     "output_type": "stream",
     "text": [
      "Gurobi Optimizer version 9.1.2 build v9.1.2rc0 (mac64)\n",
      "Thread count: 4 physical cores, 4 logical processors, using up to 4 threads\n",
      "Optimize a model with 90 rows, 151 columns and 266 nonzeros\n",
      "Model fingerprint: 0x135f9753\n",
      "Coefficient statistics:\n",
      "  Matrix range     [1e+00, 1e+01]\n",
      "  Objective range  [2e+00, 1e+01]\n",
      "  Bounds range     [0e+00, 0e+00]\n",
      "  RHS range        [2e+01, 7e+01]\n",
      "Presolve removed 90 rows and 151 columns\n",
      "Presolve time: 0.00s\n",
      "Presolve: All rows and columns removed\n",
      "Iteration    Objective       Primal Inf.    Dual Inf.      Time\n",
      "       0    1.1879000e+03   0.000000e+00   0.000000e+00      0s\n",
      "\n",
      "Solved in 0 iterations and 0.01 seconds\n",
      "Optimal objective  1.187900000e+03\n"
     ]
    }
   ],
   "source": [
    "#Inicializo el maestro sin cortes de ningún tipo\n",
    "mediano=Model('mediano')\n",
    "#mediano.setParam(\"OutputFlag\",0)\n",
    "#maestro.setParam(\"InfUnbdInfo\", 1)\n",
    "s1=mediano.addMVar(shape=1,lb=0,name='s1',vtype = GRB.CONTINUOUS,)\n",
    "y1=mediano.addMVar(shape=2,lb=0 ,name='y^1',vtype = GRB.CONTINUOUS,)\n",
    "y = mediano.addMVar(shape=148, lb=0.0, vtype = GRB.CONTINUOUS, name='y')\n",
    "\n",
    "mediano.setObjective(c@y1+q@y,GRB.MINIMIZE)\n",
    "\n",
    "mediano.addConstr(T@y1+W@y==h.reshape(-1,))\n",
    "\n",
    "#maestro.addConstr(c@y1+s1==c_MAX)\n",
    "mediano.optimize()\n",
    "\n",
    "\n"
   ]
  },
  {
   "cell_type": "code",
   "execution_count": 65,
   "metadata": {
    "ExecuteTime": {
     "end_time": "2021-06-11T13:08:20.985847Z",
     "start_time": "2021-06-11T13:08:20.982329Z"
    }
   },
   "outputs": [
    {
     "data": {
      "text/plain": [
       "'ABC should hire 51.0 workers in the morning and 21.0 workers in the afternoon in order to fulfill the demand and minimize costs during the following month'"
      ]
     },
     "execution_count": 65,
     "metadata": {},
     "output_type": "execute_result"
    }
   ],
   "source": [
    "\"ABC should hire {mañana} workers in the morning and {tarde} workers in the afternoon in order to fulfill the demand and minimize costs during the following month\".format(tarde=float(y1[0].x),  mañana=float(y1[1].x))\n",
    "\n"
   ]
  },
  {
   "cell_type": "code",
   "execution_count": null,
   "metadata": {},
   "outputs": [],
   "source": []
  },
  {
   "cell_type": "code",
   "execution_count": null,
   "metadata": {},
   "outputs": [],
   "source": []
  },
  {
   "cell_type": "code",
   "execution_count": null,
   "metadata": {},
   "outputs": [],
   "source": []
  }
 ],
 "metadata": {
  "kernelspec": {
   "display_name": "Python 3",
   "language": "python",
   "name": "python3"
  },
  "language_info": {
   "codemirror_mode": {
    "name": "ipython",
    "version": 3
   },
   "file_extension": ".py",
   "mimetype": "text/x-python",
   "name": "python",
   "nbconvert_exporter": "python",
   "pygments_lexer": "ipython3",
   "version": "3.7.6"
  },
  "toc": {
   "base_numbering": 1,
   "nav_menu": {},
   "number_sections": true,
   "sideBar": true,
   "skip_h1_title": false,
   "title_cell": "Table of Contents",
   "title_sidebar": "Contents",
   "toc_cell": false,
   "toc_position": {},
   "toc_section_display": true,
   "toc_window_display": false
  }
 },
 "nbformat": 4,
 "nbformat_minor": 4
}
